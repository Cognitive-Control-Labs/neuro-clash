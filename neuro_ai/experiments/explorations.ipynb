{
 "cells": [
  {
   "cell_type": "code",
   "execution_count": null,
   "metadata": {},
   "outputs": [],
   "source": [
    "import mne\n",
    "import numpy as np"
   ]
  },
  {
   "cell_type": "markdown",
   "metadata": {},
   "source": [
    "### Loading Data"
   ]
  },
  {
   "cell_type": "code",
   "execution_count": null,
   "metadata": {},
   "outputs": [],
   "source": [
    "# Load the data\n",
    "raw = mne.io.read_raw_eeglab(\"your_file.set\")"
   ]
  },
  {
   "cell_type": "markdown",
   "metadata": {},
   "source": [
    "### Filtering"
   ]
  },
  {
   "cell_type": "code",
   "execution_count": null,
   "metadata": {},
   "outputs": [],
   "source": [
    "# Apply band-pass filter\n",
    "raw.filter(8, 30, method=\"iir\")"
   ]
  },
  {
   "cell_type": "markdown",
   "metadata": {},
   "source": [
    "### Remove Artifacts"
   ]
  },
  {
   "cell_type": "code",
   "execution_count": null,
   "metadata": {},
   "outputs": [],
   "source": [
    "# Apply ICA for artifact removal\n",
    "ica = mne.preprocessing.ICA(n_components=20, random_state=0)\n",
    "ica.fit(raw)\n",
    "raw = ica.apply(raw)"
   ]
  },
  {
   "cell_type": "markdown",
   "metadata": {},
   "source": [
    "### Segment"
   ]
  },
  {
   "cell_type": "code",
   "execution_count": null,
   "metadata": {},
   "outputs": [],
   "source": [
    "# Segment the data into epochs\n",
    "events = mne.find_events(raw)\n",
    "epochs = mne.Epochs(raw, events, event_id=1)"
   ]
  },
  {
   "cell_type": "markdown",
   "metadata": {},
   "source": []
  },
  {
   "cell_type": "code",
   "execution_count": null,
   "metadata": {},
   "outputs": [],
   "source": [
    "# Normalize the data\n",
    "epochs_data = epochs.get_data()\n",
    "epochs_data_normalized = (epochs_data - np.mean(epochs_data)) / np.std(epochs_data)\n",
    "\n",
    "# Feature extraction (example: spectral power in alpha band)\n",
    "frequencies, power = mne.time_frequency.psd_welch(epochs, fmin=8, fmax=12)\n",
    "alpha_power = np.sum(power, axis=-1)\n",
    "\n",
    "# Downsample the data\n",
    "epochs_resampled = epochs.copy().resample(100)  # resample to 100Hz"
   ]
  }
 ],
 "metadata": {
  "language_info": {
   "name": "python"
  }
 },
 "nbformat": 4,
 "nbformat_minor": 2
}
