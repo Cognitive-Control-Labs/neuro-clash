{
 "cells": [
  {
   "cell_type": "code",
   "execution_count": 1,
   "metadata": {},
   "outputs": [
    {
     "name": "stdout",
     "output_type": "stream",
     "text": [
      "Requirement already satisfied: pylsl in /Users/anthonyricher/apps/neuro-clash/neuro_ai/.venv/lib/python3.11/site-packages (1.16.2)\n",
      "\n",
      "\u001b[1m[\u001b[0m\u001b[34;49mnotice\u001b[0m\u001b[1;39;49m]\u001b[0m\u001b[39;49m A new release of pip is available: \u001b[0m\u001b[31;49m23.3.1\u001b[0m\u001b[39;49m -> \u001b[0m\u001b[32;49m23.3.2\u001b[0m\n",
      "\u001b[1m[\u001b[0m\u001b[34;49mnotice\u001b[0m\u001b[1;39;49m]\u001b[0m\u001b[39;49m To update, run: \u001b[0m\u001b[32;49mpip install --upgrade pip\u001b[0m\n",
      "Note: you may need to restart the kernel to use updated packages.\n"
     ]
    },
    {
     "ename": "RuntimeError",
     "evalue": "LSL binary library file was not found. Please make sure that the binary file can be found in the package lib folder\n (/Users/anthonyricher/apps/neuro-clash/neuro_ai/.venv/lib/python3.11/site-packages/pylsl/lib)\n or the system search path. Alternatively, specify the PYLSL_LIB environment variable.\n You can install the LSL library with conda: `conda install -c conda-forge liblsl`\nor with homebrew: `brew install labstreaminglayer/tap/lsl`\nor otherwise download it from the liblsl releases page assets: https://github.com/sccn/liblsl/releases\nOn modern MacOS (>= 10.15) it is further necessary to set the DYLD_LIBRARY_PATH environment variable. e.g. `>DYLD_LIBRARY_PATH=/opt/homebrew/lib python path/to/my_lsl_script.py`",
     "output_type": "error",
     "traceback": [
      "\u001b[0;31m---------------------------------------------------------------------------\u001b[0m",
      "\u001b[0;31mStopIteration\u001b[0m                             Traceback (most recent call last)",
      "File \u001b[0;32m~/apps/neuro-clash/neuro_ai/.venv/lib/python3.11/site-packages/pylsl/pylsl.py:1320\u001b[0m\n\u001b[1;32m   1319\u001b[0m \u001b[39mtry\u001b[39;00m:\n\u001b[0;32m-> 1320\u001b[0m     libpath \u001b[39m=\u001b[39m \u001b[39mnext\u001b[39;49m(find_liblsl_libraries())\n\u001b[1;32m   1321\u001b[0m     lib \u001b[39m=\u001b[39m CDLL(libpath)\n",
      "\u001b[0;31mStopIteration\u001b[0m: ",
      "\nDuring handling of the above exception, another exception occurred:\n",
      "\u001b[0;31mRuntimeError\u001b[0m                              Traceback (most recent call last)",
      "\u001b[1;32m/Users/anthonyricher/apps/neuro-clash/neuro_ai/experiments/raw_eeg.ipynb Cell 1\u001b[0m line \u001b[0;36m3\n\u001b[1;32m      <a href='vscode-notebook-cell:/Users/anthonyricher/apps/neuro-clash/neuro_ai/experiments/raw_eeg.ipynb#W0sZmlsZQ%3D%3D?line=0'>1</a>\u001b[0m get_ipython()\u001b[39m.\u001b[39mrun_line_magic(\u001b[39m'\u001b[39m\u001b[39mpip\u001b[39m\u001b[39m'\u001b[39m, \u001b[39m'\u001b[39m\u001b[39minstall pylsl\u001b[39m\u001b[39m'\u001b[39m)\n\u001b[1;32m      <a href='vscode-notebook-cell:/Users/anthonyricher/apps/neuro-clash/neuro_ai/experiments/raw_eeg.ipynb#W0sZmlsZQ%3D%3D?line=1'>2</a>\u001b[0m \u001b[39mimport\u001b[39;00m \u001b[39mtime\u001b[39;00m\n\u001b[0;32m----> <a href='vscode-notebook-cell:/Users/anthonyricher/apps/neuro-clash/neuro_ai/experiments/raw_eeg.ipynb#W0sZmlsZQ%3D%3D?line=2'>3</a>\u001b[0m \u001b[39mfrom\u001b[39;00m \u001b[39mpylsl\u001b[39;00m \u001b[39mimport\u001b[39;00m StreamInlet, resolve_stream\n",
      "File \u001b[0;32m~/apps/neuro-clash/neuro_ai/.venv/lib/python3.11/site-packages/pylsl/__init__.py:2\u001b[0m\n\u001b[1;32m      1\u001b[0m \u001b[39m# (not using import * for Python 2.5 support)\u001b[39;00m\n\u001b[0;32m----> 2\u001b[0m \u001b[39mfrom\u001b[39;00m \u001b[39m.\u001b[39;00m\u001b[39mpylsl\u001b[39;00m \u001b[39mimport\u001b[39;00m IRREGULAR_RATE, DEDUCED_TIMESTAMP, FOREVER, cf_float32,\\\n\u001b[1;32m      3\u001b[0m     cf_double64, cf_string, cf_int32, cf_int16, cf_int8, cf_int64,\\\n\u001b[1;32m      4\u001b[0m     cf_undefined, protocol_version, library_version, library_info, local_clock,\\\n\u001b[1;32m      5\u001b[0m     proc_ALL, proc_none, proc_clocksync, proc_dejitter, proc_monotonize, proc_threadsafe,\\\n\u001b[1;32m      6\u001b[0m     StreamInfo, StreamOutlet, resolve_streams, resolve_byprop,\\\n\u001b[1;32m      7\u001b[0m     resolve_bypred, StreamInlet, XMLElement, ContinuousResolver,\\\n\u001b[1;32m      8\u001b[0m     \u001b[39mTimeoutError\u001b[39;00m, LostError, InvalidArgumentError, InternalError,\\\n\u001b[1;32m      9\u001b[0m     stream_info, stream_outlet, stream_inlet, xml_element,\\\n\u001b[1;32m     10\u001b[0m     timeout_error, lost_error, vectorf, vectord, vectorl,\\\n\u001b[1;32m     11\u001b[0m     vectori, vectors, vectorc, vectorstr, resolve_stream\n\u001b[1;32m     13\u001b[0m \u001b[39mfrom\u001b[39;00m \u001b[39m.\u001b[39;00m\u001b[39mversion\u001b[39;00m \u001b[39mimport\u001b[39;00m __version__\n",
      "File \u001b[0;32m~/apps/neuro-clash/neuro_ai/.venv/lib/python3.11/site-packages/pylsl/pylsl.py:1329\u001b[0m\n\u001b[1;32m   1327\u001b[0m         err_msg \u001b[39m+\u001b[39m\u001b[39m=\u001b[39m \u001b[39m\"\u001b[39m\u001b[39mthe system search path. Alternatively, \u001b[39m\u001b[39m\"\u001b[39m\n\u001b[1;32m   1328\u001b[0m     err_msg \u001b[39m+\u001b[39m\u001b[39m=\u001b[39m \u001b[39m\"\u001b[39m\u001b[39mspecify the PYLSL_LIB environment variable.\u001b[39m\u001b[39m\\n\u001b[39;00m\u001b[39m \u001b[39m\u001b[39m\"\u001b[39m\n\u001b[0;32m-> 1329\u001b[0m     \u001b[39mraise\u001b[39;00m \u001b[39mRuntimeError\u001b[39;00m(err_msg \u001b[39m+\u001b[39m __dload_msg)\n\u001b[1;32m   1330\u001b[0m \u001b[39mexcept\u001b[39;00m \u001b[39mOSError\u001b[39;00m:\n\u001b[1;32m   1331\u001b[0m     err_msg \u001b[39m=\u001b[39m \u001b[39m\"\u001b[39m\u001b[39mliblsl library \u001b[39m\u001b[39m'\u001b[39m\u001b[39m\"\u001b[39m \u001b[39m+\u001b[39m libpath \u001b[39m+\u001b[39m \u001b[39m\"\u001b[39m\u001b[39m'\u001b[39m\u001b[39m found but could not be loaded \u001b[39m\u001b[39m\"\u001b[39m\n",
      "\u001b[0;31mRuntimeError\u001b[0m: LSL binary library file was not found. Please make sure that the binary file can be found in the package lib folder\n (/Users/anthonyricher/apps/neuro-clash/neuro_ai/.venv/lib/python3.11/site-packages/pylsl/lib)\n or the system search path. Alternatively, specify the PYLSL_LIB environment variable.\n You can install the LSL library with conda: `conda install -c conda-forge liblsl`\nor with homebrew: `brew install labstreaminglayer/tap/lsl`\nor otherwise download it from the liblsl releases page assets: https://github.com/sccn/liblsl/releases\nOn modern MacOS (>= 10.15) it is further necessary to set the DYLD_LIBRARY_PATH environment variable. e.g. `>DYLD_LIBRARY_PATH=/opt/homebrew/lib python path/to/my_lsl_script.py`"
     ]
    }
   ],
   "source": [
    "import time\n",
    "from pylsl import StreamInlet, resolve_stream"
   ]
  },
  {
   "cell_type": "code",
   "execution_count": null,
   "metadata": {},
   "outputs": [],
   "source": [
    "# Resolve the Muse EEG stream\n",
    "streams = resolve_stream(\"type\", \"EEG\")\n",
    "inlet = StreamInlet(streams[0])\n",
    "\n",
    "# Create a file to write the EEG data\n",
    "file_path = \"eeg_data.txt\"\n",
    "file = open(file_path, \"w\")\n",
    "\n",
    "# Read EEG data for 20 seconds\n",
    "start_time = time.time()\n",
    "end_time = start_time + 20\n",
    "\n",
    "while time.time() < end_time:\n",
    "    # Read a sample from the stream\n",
    "    sample, timestamp = inlet.pull_sample()\n",
    "\n",
    "    # Write the sample to the file\n",
    "    file.write(\",\".join(str(value) for value in sample))\n",
    "    file.write(\"\\n\")\n",
    "\n",
    "# Close the file\n",
    "file.close()"
   ]
  }
 ],
 "metadata": {
  "kernelspec": {
   "display_name": "neuro-clash",
   "language": "python",
   "name": "python3"
  },
  "language_info": {
   "codemirror_mode": {
    "name": "ipython",
    "version": 3
   },
   "file_extension": ".py",
   "mimetype": "text/x-python",
   "name": "python",
   "nbconvert_exporter": "python",
   "pygments_lexer": "ipython3",
   "version": "3.11.6"
  }
 },
 "nbformat": 4,
 "nbformat_minor": 2
}
