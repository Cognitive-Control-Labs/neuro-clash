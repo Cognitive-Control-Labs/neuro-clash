{
  "cells": [
    {
      "cell_type": "markdown",
      "metadata": {},
      "source": [
        "\n",
        "# Plot real-time epoch data with LSL client\n",
        "\n",
        "This example demonstrates how to use the LSL client to plot real-time\n",
        "collection of event data from an LSL stream.\n",
        "For the purposes of demo, a mock LSL stream is constructed. You can\n",
        "replace this with the stream of your choice by changing the host id to\n",
        "the desired stream.\n"
      ]
    },
    {
      "cell_type": "code",
      "execution_count": null,
      "metadata": {
        "collapsed": false
      },
      "outputs": [],
      "source": [
        "# Author: Teon Brooks <teon.brooks@gmail.com>\n",
        "#\n",
        "# License: BSD (3-clause)\n",
        "import matplotlib.pyplot as plt\n",
        "from mne.datasets import sample\n",
        "from mne.io import read_raw_fif\n",
        "\n",
        "from mne_realtime import LSLClient, MockLSLStream\n",
        "\n",
        "print(__doc__)\n",
        "\n",
        "# this is the host id that identifies your stream on LSL\n",
        "host = \"mne_stream\"\n",
        "# this is the max wait time in seconds until client connection\n",
        "wait_max = 5\n",
        "\n",
        "\n",
        "# Load a file to stream raw data\n",
        "data_path = sample.data_path()\n",
        "raw_fname = data_path / \"MEG\" / \"sample\" / \"sample_audvis_filt-0-40_raw.fif\"\n",
        "raw = read_raw_fif(raw_fname).crop(0, 30).load_data().pick(\"eeg\")\n",
        "\n",
        "# For this example, let's use the mock LSL stream.\n",
        "_, ax = plt.subplots(1)\n",
        "n_epochs = 5\n",
        "\n",
        "# main function is necessary here to enable script as own program\n",
        "# in such way a child process can be started (primarily for Windows)\n",
        "if __name__ == \"__main__\":\n",
        "    with MockLSLStream(host, raw, \"eeg\"):\n",
        "        with LSLClient(info=raw.info, host=host, wait_max=wait_max) as client:\n",
        "            client_info = client.get_measurement_info()\n",
        "            sfreq = int(client_info[\"sfreq\"])\n",
        "\n",
        "            # let's observe ten seconds of data\n",
        "            for ii in range(n_epochs):\n",
        "                print(\"Got epoch %d/%d\" % (ii + 1, n_epochs))\n",
        "                plt.cla()\n",
        "                epoch = client.get_data_as_epoch(n_samples=sfreq)\n",
        "                epoch.average().plot(axes=ax)\n",
        "                plt.pause(1.0)\n",
        "            plt.draw()\n",
        "print(\"Streams closed\")"
      ]
    }
  ],
  "metadata": {
    "kernelspec": {
      "display_name": "Python 3",
      "language": "python",
      "name": "python3"
    },
    "language_info": {
      "codemirror_mode": {
        "name": "ipython",
        "version": 3
      },
      "file_extension": ".py",
      "mimetype": "text/x-python",
      "name": "python",
      "nbconvert_exporter": "python",
      "pygments_lexer": "ipython3",
      "version": "3.11.6"
    }
  },
  "nbformat": 4,
  "nbformat_minor": 0
}
