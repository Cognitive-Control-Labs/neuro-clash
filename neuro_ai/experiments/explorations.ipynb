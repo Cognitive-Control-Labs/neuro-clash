{
 "cells": [
  {
   "cell_type": "markdown",
   "metadata": {},
   "source": [
    "## Loading Data"
   ]
  },
  {
   "cell_type": "code",
   "execution_count": null,
   "metadata": {},
   "outputs": [],
   "source": [
    "import os\n",
    "from pathlib import Path\n",
    "import pandas as pd\n",
    "import numpy as np\n",
    "import mne\n",
    "\n",
    "# Get the current file path\n",
    "current_file_path = Path(os.path.abspath(\"\"))\n",
    "\n",
    "# Get the root path of the project\n",
    "root_path = current_file_path.parents[0]\n",
    "\n",
    "eeg_recordings_path = root_path / \"eeg_recordings\"\n",
    "print(eeg_recordings_path)"
   ]
  },
  {
   "cell_type": "code",
   "execution_count": null,
   "metadata": {},
   "outputs": [],
   "source": [
    "# Load the csv data\n",
    "# df = pd.read_csv(eeg_recordings_path / \"EEG_recording_test_raw.csv\")\n",
    "df = pd.read_csv(eeg_recordings_path / \"EEG_recording_antho_concentration_60.csv\")\n",
    "df.info()\n",
    "\n",
    "# Assuming the EEG data is in columns named 'TP9', 'AF7', 'AF8', 'TP10', 'Right AUX'\n",
    "# Adjust these according to your CSV file's structure\n",
    "ch_names = [\"TP9\", \"AF7\", \"AF8\", \"TP10\"]\n",
    "# Define channel types - assuming all channels are EEG\n",
    "ch_types = [\"eeg\"] * len(ch_names)\n",
    "\n",
    "# The first column is timestamps, which we don't need for the RawArray\n",
    "eeg_data = df.iloc[:, 1:-1].T.values\n",
    "\n",
    "# Create an MNE Info object (replace 256 with the actual sampling frequency)\n",
    "info = mne.create_info(ch_names=ch_names, sfreq=256, ch_types=ch_types)\n",
    "\n",
    "# Create mne RawArray\n",
    "raw = mne.io.RawArray(eeg_data, info)\n",
    "\n",
    "# Add a montage (only necessary for plotting)\n",
    "montage = mne.channels.make_standard_montage(\"standard_1020\")\n",
    "raw.set_montage(montage)\n",
    "\n",
    "# Save as FIF format\n",
    "raw.save(eeg_recordings_path / \"EEG_recording_test_raw.fif\", overwrite=True)"
   ]
  },
  {
   "cell_type": "markdown",
   "metadata": {},
   "source": [
    "## Filtering"
   ]
  },
  {
   "cell_type": "code",
   "execution_count": null,
   "metadata": {},
   "outputs": [],
   "source": [
    "# raw = mne.io.read_raw_fif(\n",
    "#     eeg_recordings_path / \"EEG_recording_test_raw.fif\", preload=True\n",
    "# )\n",
    "\n",
    "# Apply band-pass filter\n",
    "raw.filter(4, 40, method=\"iir\")\n",
    "# Filter for all bands\n",
    "# raw.filter(1, 100, method=\"iir\")\n",
    "\n",
    "# Remove frequency above 40 Hz\n",
    "# raw.plot(block=True, scalings=\"auto\", lowpass=40, title=\"EEG recording\")\n",
    "\n",
    "# Optionally, apply a notch filter to remove power line noise at 50 Hz or 60 Hz\n",
    "# raw.notch_filter(np.arange(50, 251, 50), filter_length=\"auto\", phase=\"zero\")"
   ]
  },
  {
   "cell_type": "markdown",
   "metadata": {},
   "source": [
    "## ICA for detecting Artifacts"
   ]
  },
  {
   "cell_type": "code",
   "execution_count": null,
   "metadata": {},
   "outputs": [],
   "source": [
    "# Apply ICA for artifact removal\n",
    "ica = mne.preprocessing.ICA(n_components=4, random_state=0)\n",
    "ica.fit(raw)\n",
    "raw = ica.apply(raw)\n",
    "ica.plot_components()"
   ]
  },
  {
   "cell_type": "markdown",
   "metadata": {},
   "source": [
    "## Epochs\n",
    "Segmenting data by Epochs can be used to do analysis on different patterns associated with certain activities or response"
   ]
  },
  {
   "cell_type": "code",
   "execution_count": null,
   "metadata": {},
   "outputs": [],
   "source": [
    "sfreq = raw.info[\"sfreq\"]  # Sampling frequency\n",
    "epoch_duration = 1  # Duration of each epoch in seconds\n",
    "epoch_interval = 1  # Interval between epochs in seconds\n",
    "\n",
    "# Calculate the number of samples per epoch\n",
    "samples_per_epoch = int(epoch_duration * sfreq)\n",
    "\n",
    "# Calculate total number of epochs\n",
    "total_samples = len(raw.times)\n",
    "print(raw.times)\n",
    "total_epochs = int(total_samples / samples_per_epoch)\n",
    "\n",
    "# Create the events array\n",
    "events = np.zeros((total_epochs, 3), int)\n",
    "for i in range(total_epochs):\n",
    "    start_sample = i * int(epoch_interval * sfreq)\n",
    "    events[i] = [start_sample, 0, 1]\n",
    "\n",
    "# Create epochs\n",
    "epochs = mne.Epochs(\n",
    "    raw,\n",
    "    events=events,\n",
    "    event_id=1,\n",
    "    tmin=0,\n",
    "    tmax=epoch_duration,\n",
    "    baseline=None,\n",
    "    preload=True,\n",
    ")"
   ]
  },
  {
   "cell_type": "markdown",
   "metadata": {},
   "source": [
    "## PSD (power spectral density) to get Alpha and Beta power"
   ]
  },
  {
   "cell_type": "code",
   "execution_count": null,
   "metadata": {},
   "outputs": [],
   "source": [
    "# Normalize the data\n",
    "epochs_data = epochs.get_data()\n",
    "epochs_data_normalized = (epochs_data - np.mean(epochs_data)) / np.std(epochs_data)\n",
    "\n",
    "\n",
    "# Calculate PSD with the full frequency range\n",
    "psd, freqs = mne.time_frequency.psd_array_welch(\n",
    "    epochs_data_normalized, sfreq, fmin=4, fmax=30, n_per_seg=256\n",
    ")\n",
    "\n",
    "# Find indices for alpha and beta bands\n",
    "alpha_indices = np.where((freqs >= 8) & (freqs <= 12))[0]\n",
    "beta_indices = np.where((freqs >= 13) & (freqs <= 30))[0]\n",
    "# Find indices for other bands\n",
    "# delta_indices = np.where((freqs >= 1) & (freqs <= 3))[0]\n",
    "# theta_indices = np.where((freqs >= 4) & (freqs <= 7))[0]\n",
    "# gamma_indices = np.where((freqs >= 31) & (freqs <= 100))[0]\n",
    "\n",
    "\n",
    "# Extract and average the power for alpha and beta bands\n",
    "alpha_power = psd[:, :, alpha_indices].mean(axis=2)\n",
    "beta_power = psd[:, :, beta_indices].mean(axis=2)\n",
    "# Extract other bands\n",
    "# delta_power = psd[:, :, delta_indices].mean(axis=2)\n",
    "# theta_power = psd[:, :, theta_indices].mean(axis=2)\n",
    "# gamma_power = psd[:, :, gamma_indices].mean(axis=2)"
   ]
  },
  {
   "cell_type": "markdown",
   "metadata": {},
   "source": [
    "## Data Visualization\n",
    "Visualize the average power of the alpha and beta bands over time."
   ]
  },
  {
   "cell_type": "code",
   "execution_count": null,
   "metadata": {},
   "outputs": [],
   "source": [
    "import matplotlib.pyplot as plt\n",
    "\n",
    "# Calculate the average power across all channels for each epoch\n",
    "mean_alpha_power = alpha_power.mean(axis=1)\n",
    "mean_beta_power = beta_power.mean(axis=1)\n",
    "\n",
    "# mean_delta_power = delta_power.mean(axis=1)\n",
    "# mean_theta_power = theta_power.mean(axis=1)\n",
    "# mean_gamma_power = gamma_power.mean(axis=1)\n",
    "\n",
    "# Generate the epochs array (assuming you have the same number of epochs for both alpha and beta)\n",
    "epochs_array = np.arange(len(mean_alpha_power))\n",
    "\n",
    "# Create the plot\n",
    "plt.figure(figsize=(12, 6))\n",
    "plt.plot(epochs_array, mean_alpha_power, label=\"Alpha Band Power\", color=\"blue\")\n",
    "plt.plot(epochs_array, mean_beta_power, label=\"Beta Band Power\", color=\"red\")\n",
    "\n",
    "# plt.plot(epochs_array, mean_delta_power, label=\"Delta Band Power\", color=\"orange\")\n",
    "# plt.plot(epochs_array, mean_theta_power, label=\"Theta Band Power\", color=\"yellow\")\n",
    "# plt.plot(epochs_array, mean_gamma_power, label=\"Gamma Band Power\", color=\"green\")\n",
    "\n",
    "# Adding labels and title\n",
    "plt.xlabel(\"Epochs\")\n",
    "plt.ylabel(\"Average Power\")\n",
    "plt.title(\"Alpha and Beta Band Power over Time\")\n",
    "plt.legend()\n",
    "\n",
    "# Show the plot\n",
    "plt.show()"
   ]
  },
  {
   "cell_type": "code",
   "execution_count": null,
   "metadata": {},
   "outputs": [],
   "source": [
    "beta_alpha_ratio = mean_beta_power / mean_alpha_power\n",
    "\n",
    "# Set a threshold for concentration\n",
    "# This value is arbitrary and should be adjusted based on your data\n",
    "concentration_threshold = 2\n",
    "\n",
    "# Identify concentrated epochs\n",
    "concentrated_epochs = beta_alpha_ratio > concentration_threshold\n",
    "\n",
    "# Create the plot\n",
    "plt.figure(figsize=(12, 6))\n",
    "\n",
    "# Plotting Beta/Alpha Ratio\n",
    "plt.plot(epochs_array, beta_alpha_ratio, label=\"Beta/Alpha Ratio\", color=\"purple\")\n",
    "\n",
    "# Highlight concentrated epochs\n",
    "for epoch, is_concentrated in enumerate(concentrated_epochs):\n",
    "    if is_concentrated:\n",
    "        plt.axvline(x=epoch, color=\"green\", linestyle=\"--\", alpha=0.5)\n",
    "\n",
    "# Adding labels and title\n",
    "plt.xlabel(\"Epochs\")\n",
    "plt.ylabel(\"Beta/Alpha Ratio\")\n",
    "plt.title(\"Beta/Alpha Ratio over Time (Green Lines Indicate Concentration)\")\n",
    "plt.legend()\n",
    "plt.show()"
   ]
  },
  {
   "cell_type": "markdown",
   "metadata": {},
   "source": [
    "## Ratio based concentration detection"
   ]
  },
  {
   "cell_type": "code",
   "execution_count": null,
   "metadata": {},
   "outputs": [],
   "source": [
    "delta_alpha_power = np.diff(mean_alpha_power)\n",
    "delta_beta_power = np.diff(mean_beta_power)\n",
    "\n",
    "# Identify potential concentration points\n",
    "concentration_points = []\n",
    "for i in range(1, len(delta_alpha_power)):\n",
    "    if delta_alpha_power[i - 1] < 0 and delta_beta_power[i] > 0:\n",
    "        concentration_points.append(i)\n",
    "\n",
    "# Create the plot\n",
    "plt.figure(figsize=(12, 6))\n",
    "\n",
    "# Plotting Alpha and Beta Power\n",
    "plt.plot(epochs_array, mean_alpha_power, label=\"Alpha Band Power\", color=\"blue\")\n",
    "plt.plot(epochs_array, mean_beta_power, label=\"Beta Band Power\", color=\"red\")\n",
    "\n",
    "# Highlight concentration points\n",
    "for point in concentration_points:\n",
    "    plt.axvline(x=point, color=\"green\", linestyle=\"--\", alpha=0.5)\n",
    "\n",
    "# Adding labels and title\n",
    "plt.xlabel(\"Epochs\")\n",
    "plt.ylabel(\"Average Power\")\n",
    "plt.title(\"Alpha and Beta Band Power over Time with Concentration Points\")\n",
    "plt.legend()\n",
    "\n",
    "# Show the plot\n",
    "plt.show()"
   ]
  }
 ],
 "metadata": {
  "kernelspec": {
   "display_name": ".venv",
   "language": "python",
   "name": "python3"
  },
  "language_info": {
   "codemirror_mode": {
    "name": "ipython",
    "version": 3
   },
   "file_extension": ".py",
   "mimetype": "text/x-python",
   "name": "python",
   "nbconvert_exporter": "python",
   "pygments_lexer": "ipython3",
   "version": "3.11.6"
  }
 },
 "nbformat": 4,
 "nbformat_minor": 2
}
